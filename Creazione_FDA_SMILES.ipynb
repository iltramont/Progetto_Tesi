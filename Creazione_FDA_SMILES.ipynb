{
 "cells": [
  {
   "cell_type": "code",
   "execution_count": 1,
   "id": "7a8c6842",
   "metadata": {},
   "outputs": [],
   "source": [
    "import numpy as np\n",
    "import pandas as pd"
   ]
  },
  {
   "cell_type": "code",
   "execution_count": 15,
   "id": "ee4c2985",
   "metadata": {},
   "outputs": [],
   "source": [
    "data = pd.read_csv(\"drugs.txt\", sep=\"\\t\")"
   ]
  },
  {
   "cell_type": "code",
   "execution_count": 17,
   "id": "dfabfa41",
   "metadata": {},
   "outputs": [],
   "source": [
    "#Rimuovo NaN\n",
    "df = data.dropna()"
   ]
  },
  {
   "cell_type": "code",
   "execution_count": 23,
   "id": "de0b7427",
   "metadata": {},
   "outputs": [],
   "source": [
    "df = df.reset_index(drop=True)"
   ]
  },
  {
   "cell_type": "code",
   "execution_count": 27,
   "id": "43cc67e9",
   "metadata": {},
   "outputs": [],
   "source": [
    "df.drop(columns=\"cns_drug\", inplace=True)"
   ]
  },
  {
   "cell_type": "code",
   "execution_count": 28,
   "id": "654e07f4",
   "metadata": {},
   "outputs": [
    {
     "data": {
      "text/html": [
       "<div>\n",
       "<style scoped>\n",
       "    .dataframe tbody tr th:only-of-type {\n",
       "        vertical-align: middle;\n",
       "    }\n",
       "\n",
       "    .dataframe tbody tr th {\n",
       "        vertical-align: top;\n",
       "    }\n",
       "\n",
       "    .dataframe thead th {\n",
       "        text-align: right;\n",
       "    }\n",
       "</style>\n",
       "<table border=\"1\" class=\"dataframe\">\n",
       "  <thead>\n",
       "    <tr style=\"text-align: right;\">\n",
       "      <th></th>\n",
       "      <th>generic_name</th>\n",
       "      <th>smiles</th>\n",
       "    </tr>\n",
       "  </thead>\n",
       "  <tbody>\n",
       "    <tr>\n",
       "      <th>0</th>\n",
       "      <td>Abacavir</td>\n",
       "      <td>NC1=NC2=C(N=CN2[C@@H]2C[C@H](CO)C=C2)C(NC2CC2)=N1</td>\n",
       "    </tr>\n",
       "    <tr>\n",
       "      <th>1</th>\n",
       "      <td>Abiraterone</td>\n",
       "      <td>CC(=O)O[C@H]1CC[C@]2(C)C3CC[C@@]4(C)C(CC=C4C4=...</td>\n",
       "    </tr>\n",
       "    <tr>\n",
       "      <th>2</th>\n",
       "      <td>Acamprosate</td>\n",
       "      <td>CC(=O)NCCCS(O)(=O)=O</td>\n",
       "    </tr>\n",
       "    <tr>\n",
       "      <th>3</th>\n",
       "      <td>Acarbose</td>\n",
       "      <td>C[C@H]1O[C@H](O[C@@H]2[C@@H](CO)O[C@H](O[C@@H]...</td>\n",
       "    </tr>\n",
       "    <tr>\n",
       "      <th>4</th>\n",
       "      <td>Acebutolol</td>\n",
       "      <td>CCCC(=O)NC1=CC(C(C)=O)=C(OCC(O)CNC(C)C)C=C1</td>\n",
       "    </tr>\n",
       "    <tr>\n",
       "      <th>...</th>\n",
       "      <td>...</td>\n",
       "      <td>...</td>\n",
       "    </tr>\n",
       "    <tr>\n",
       "      <th>1492</th>\n",
       "      <td>Zolmitriptan</td>\n",
       "      <td>CN(C)CCC1=CNC2=CC=C(C[C@H]3COC(=O)N3)C=C12</td>\n",
       "    </tr>\n",
       "    <tr>\n",
       "      <th>1493</th>\n",
       "      <td>Zolpidem</td>\n",
       "      <td>CN(C)C(=O)CC1=C(N=C2C=CC(C)=CN12)C1=CC=C(C)C=C1</td>\n",
       "    </tr>\n",
       "    <tr>\n",
       "      <th>1494</th>\n",
       "      <td>Zonisamide</td>\n",
       "      <td>NS(=O)(=O)CC1=NOC2=CC=CC=C12</td>\n",
       "    </tr>\n",
       "    <tr>\n",
       "      <th>1495</th>\n",
       "      <td>Zopiclone</td>\n",
       "      <td>CN1CCN(CC1)C(=O)OC1N(C(=O)C2=NC=CN=C12)C1=NC=C...</td>\n",
       "    </tr>\n",
       "    <tr>\n",
       "      <th>1496</th>\n",
       "      <td>Zuclopenthixol</td>\n",
       "      <td>OCCN1CCN(CC\\C=C2\\C3=CC=CC=C3SC3=C2C=C(Cl)C=C3)CC1</td>\n",
       "    </tr>\n",
       "  </tbody>\n",
       "</table>\n",
       "<p>1497 rows × 2 columns</p>\n",
       "</div>"
      ],
      "text/plain": [
       "        generic_name                                             smiles\n",
       "0           Abacavir  NC1=NC2=C(N=CN2[C@@H]2C[C@H](CO)C=C2)C(NC2CC2)=N1\n",
       "1        Abiraterone  CC(=O)O[C@H]1CC[C@]2(C)C3CC[C@@]4(C)C(CC=C4C4=...\n",
       "2        Acamprosate                               CC(=O)NCCCS(O)(=O)=O\n",
       "3           Acarbose  C[C@H]1O[C@H](O[C@@H]2[C@@H](CO)O[C@H](O[C@@H]...\n",
       "4         Acebutolol        CCCC(=O)NC1=CC(C(C)=O)=C(OCC(O)CNC(C)C)C=C1\n",
       "...              ...                                                ...\n",
       "1492    Zolmitriptan         CN(C)CCC1=CNC2=CC=C(C[C@H]3COC(=O)N3)C=C12\n",
       "1493        Zolpidem    CN(C)C(=O)CC1=C(N=C2C=CC(C)=CN12)C1=CC=C(C)C=C1\n",
       "1494      Zonisamide                       NS(=O)(=O)CC1=NOC2=CC=CC=C12\n",
       "1495       Zopiclone  CN1CCN(CC1)C(=O)OC1N(C(=O)C2=NC=CN=C12)C1=NC=C...\n",
       "1496  Zuclopenthixol  OCCN1CCN(CC\\C=C2\\C3=CC=CC=C3SC3=C2C=C(Cl)C=C3)CC1\n",
       "\n",
       "[1497 rows x 2 columns]"
      ]
     },
     "execution_count": 28,
     "metadata": {},
     "output_type": "execute_result"
    }
   ],
   "source": [
    "df"
   ]
  },
  {
   "cell_type": "code",
   "execution_count": 29,
   "id": "da6e34f4",
   "metadata": {},
   "outputs": [],
   "source": [
    "df.to_csv(\"drugs_clear.csv\")"
   ]
  },
  {
   "cell_type": "code",
   "execution_count": null,
   "id": "2f3b93df",
   "metadata": {},
   "outputs": [],
   "source": []
  }
 ],
 "metadata": {
  "kernelspec": {
   "display_name": "Python 3 (ipykernel)",
   "language": "python",
   "name": "python3"
  },
  "language_info": {
   "codemirror_mode": {
    "name": "ipython",
    "version": 3
   },
   "file_extension": ".py",
   "mimetype": "text/x-python",
   "name": "python",
   "nbconvert_exporter": "python",
   "pygments_lexer": "ipython3",
   "version": "3.9.13"
  }
 },
 "nbformat": 4,
 "nbformat_minor": 5
}
